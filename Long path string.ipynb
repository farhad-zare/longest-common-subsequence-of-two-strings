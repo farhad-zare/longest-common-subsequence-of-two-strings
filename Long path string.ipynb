{
 "cells": [
  {
   "cell_type": "code",
   "execution_count": 1,
   "metadata": {},
   "outputs": [],
   "source": [
    "import numpy "
   ]
  },
  {
   "cell_type": "code",
   "execution_count": 2,
   "metadata": {},
   "outputs": [],
   "source": [
    "def direct_matric(S1,S2):\n",
    "    Mat=[]\n",
    "    for i in range(len(S2)):\n",
    "        Mat.append([])\n",
    "    for i in range(len(S1)):\n",
    "        for j in range(len(S2)):\n",
    "            if S1[i]==S2[j]:\n",
    "                Mat[j].append(1)\n",
    "            else:\n",
    "                Mat[j].append(0)\n",
    "    return numpy.array(Mat)\n",
    "        "
   ]
  },
  {
   "cell_type": "code",
   "execution_count": 3,
   "metadata": {},
   "outputs": [
    {
     "data": {
      "text/plain": [
       "array([[1, 1, 0, 0, 0, 0, 0, 0],\n",
       "       [0, 0, 1, 1, 0, 0, 0, 0],\n",
       "       [1, 1, 0, 0, 0, 0, 0, 0],\n",
       "       [0, 0, 1, 1, 0, 0, 0, 0],\n",
       "       [0, 0, 0, 0, 1, 1, 0, 0],\n",
       "       [0, 0, 0, 0, 0, 0, 1, 1],\n",
       "       [0, 0, 0, 0, 1, 1, 0, 0],\n",
       "       [0, 0, 0, 0, 0, 0, 1, 1],\n",
       "       [1, 1, 0, 0, 0, 0, 0, 0]])"
      ]
     },
     "execution_count": 3,
     "metadata": {},
     "output_type": "execute_result"
    }
   ],
   "source": [
    "direct_matric('AACCTTGG','ACACTGTGA')"
   ]
  },
  {
   "cell_type": "code",
   "execution_count": 4,
   "metadata": {},
   "outputs": [],
   "source": [
    "def long_pat(x,y):\n",
    "    m = len(x)\n",
    "    n = len(y)\n",
    "\n",
    "    # declaring the array for storing the dp values\n",
    "    L = [[0] * (m + 1) for _ in range(n + 1)]\n",
    "\n",
    "    for i in range(1, n + 1):\n",
    "        for j in range(1, m + 1):\n",
    "            if x[j - 1] == y[i - 1]:\n",
    "                match = 1\n",
    "            else:\n",
    "                match = 0\n",
    "\n",
    "            L[i][j] = max(L[i - 1][j], L[i][j - 1], L[i - 1][j - 1] + match)\n",
    "    return L  \n",
    "    \n",
    "    "
   ]
  },
  {
   "cell_type": "code",
   "execution_count": 5,
   "metadata": {},
   "outputs": [
    {
     "data": {
      "text/plain": [
       "[[0, 0, 0, 0, 0, 0, 0, 0, 0],\n",
       " [0, 1, 1, 1, 1, 1, 1, 1, 1],\n",
       " [0, 1, 1, 2, 2, 2, 2, 2, 2],\n",
       " [0, 1, 2, 2, 2, 2, 2, 2, 2],\n",
       " [0, 1, 2, 3, 3, 3, 3, 3, 3],\n",
       " [0, 1, 2, 3, 3, 4, 4, 4, 4],\n",
       " [0, 1, 2, 3, 3, 4, 4, 5, 5],\n",
       " [0, 1, 2, 3, 3, 4, 5, 5, 5],\n",
       " [0, 1, 2, 3, 3, 4, 5, 6, 6],\n",
       " [0, 1, 2, 3, 3, 4, 5, 6, 6]]"
      ]
     },
     "execution_count": 5,
     "metadata": {},
     "output_type": "execute_result"
    }
   ],
   "source": [
    "L=long_pat('AACCTTGG','ACACTGTGA')\n",
    "L"
   ]
  },
  {
   "cell_type": "code",
   "execution_count": 12,
   "metadata": {},
   "outputs": [],
   "source": [
    "def lon_st(x,y):\n",
    "    seq = \"\"\n",
    "    m = len(x)\n",
    "    n = len(y)\n",
    "    i, j = n, m\n",
    "    L=long_pat(x,y)\n",
    "    match=direct_matric(x,y)\n",
    "    while j > 0 and i > 0:\n",
    "        #print(i,j)\n",
    "        if   L[i][j] == L[i - 1][j - 1] + match[i-1][j-1] and  match[i-1][j-1]>0 and match[i-3][j-2]==0 and L[i][j] == L[i][j - 1]:\n",
    "            j-=1\n",
    "            print('L')\n",
    "\n",
    "        elif L[i][j] == L[i - 1][j - 1] + match[i-1][j-1] and  match[i-1][j-1]>0:\n",
    "            seq = x[j - 1] + seq\n",
    "            i -= 1\n",
    "            j -= 1\n",
    "            print('LU')\n",
    "        elif L[i][j] == L[i - 1][j]:\n",
    "            i -= 1\n",
    "            print('U')\n",
    "        else:\n",
    "            j -= 1\n",
    "            print('L')\n",
    "\n",
    "    return L[n][m], seq\n",
    "            "
   ]
  },
  {
   "cell_type": "code",
   "execution_count": 13,
   "metadata": {},
   "outputs": [
    {
     "name": "stdout",
     "output_type": "stream",
     "text": [
      "U\n",
      "LU\n",
      "U\n",
      "LU\n",
      "L\n",
      "LU\n",
      "LU\n",
      "U\n",
      "LU\n",
      "L\n",
      "LU\n"
     ]
    },
    {
     "data": {
      "text/plain": [
       "(6, 'ACCTGG')"
      ]
     },
     "execution_count": 13,
     "metadata": {},
     "output_type": "execute_result"
    }
   ],
   "source": [
    "lon_st('AACCTTGG','ACACTGTGA')"
   ]
  },
  {
   "cell_type": "code",
   "execution_count": 14,
   "metadata": {},
   "outputs": [
    {
     "name": "stdout",
     "output_type": "stream",
     "text": [
      "aatt\n"
     ]
    }
   ],
   "source": [
    "s1=input()"
   ]
  },
  {
   "cell_type": "code",
   "execution_count": 15,
   "metadata": {},
   "outputs": [
    {
     "name": "stdout",
     "output_type": "stream",
     "text": [
      "actc\n"
     ]
    }
   ],
   "source": [
    "s2=input()"
   ]
  },
  {
   "cell_type": "code",
   "execution_count": 16,
   "metadata": {},
   "outputs": [
    {
     "name": "stdout",
     "output_type": "stream",
     "text": [
      "U\n",
      "L\n",
      "LU\n",
      "U\n",
      "L\n",
      "LU\n"
     ]
    },
    {
     "data": {
      "text/plain": [
       "(2, 'at')"
      ]
     },
     "execution_count": 16,
     "metadata": {},
     "output_type": "execute_result"
    }
   ],
   "source": [
    "lon_st(s1,s2)"
   ]
  },
  {
   "cell_type": "code",
   "execution_count": null,
   "metadata": {},
   "outputs": [],
   "source": []
  }
 ],
 "metadata": {
  "kernelspec": {
   "display_name": "Python 3",
   "language": "python",
   "name": "python3"
  },
  "language_info": {
   "codemirror_mode": {
    "name": "ipython",
    "version": 3
   },
   "file_extension": ".py",
   "mimetype": "text/x-python",
   "name": "python",
   "nbconvert_exporter": "python",
   "pygments_lexer": "ipython3",
   "version": "3.7.4"
  }
 },
 "nbformat": 4,
 "nbformat_minor": 2
}
